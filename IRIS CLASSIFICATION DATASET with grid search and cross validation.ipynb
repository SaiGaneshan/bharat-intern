{
 "cells": [
  {
   "cell_type": "code",
   "execution_count": 37,
   "metadata": {},
   "outputs": [],
   "source": [
    "from sklearn import svm\n",
    "from sklearn.metrics import confusion_matrix\n",
    "from sklearn import datasets\n",
    "from sklearn.model_selection import cross_val_score,cross_val_predict\n",
    "from sklearn.model_selection import GridSearchCV\n",
    "from sklearn.metrics import accuracy_score\n"
   ]
  },
  {
   "cell_type": "code",
   "execution_count": 38,
   "metadata": {},
   "outputs": [],
   "source": [
    "iris_data = datasets.load_iris()\n",
    "Features=iris_data.data\n",
    "Target=iris_data.target\n",
    "param_grid={'C':[0.1,1,5,10,20,30,40,50,60,70,100,200],\n",
    "            'gamma':[1,0.1,0.01,0.001],\n",
    "            'kernel':['rbf','poly','sigmoid']}"
   ]
  },
  {
   "cell_type": "code",
   "execution_count": 43,
   "metadata": {},
   "outputs": [
    {
     "name": "stdout",
     "output_type": "stream",
     "text": [
      "SVC(C=5, gamma=0.1)\n",
      "0.98\n",
      "[[50  0  0]\n",
      " [ 0 48  2]\n",
      " [ 0  1 49]]\n"
     ]
    }
   ],
   "source": [
    "model = svm.SVC()\n",
    "grid=GridSearchCV(model,param_grid,refit=True)\n",
    "grid.fit(Features,Target)\n",
    "print(grid.best_estimator_)\n",
    "predicted=cross_val_score(grid.best_estimator_,Features,Target,cv=6)\n",
    "print(predicted.mean())\n",
    "Y_predd=cross_val_predict(grid.best_estimator_,Features,Target,cv=6)\n",
    "print(confusion_matrix(Target,Y_predd))"
   ]
  }
 ],
 "metadata": {
  "kernelspec": {
   "display_name": "base",
   "language": "python",
   "name": "python3"
  },
  "language_info": {
   "codemirror_mode": {
    "name": "ipython",
    "version": 3
   },
   "file_extension": ".py",
   "mimetype": "text/x-python",
   "name": "python",
   "nbconvert_exporter": "python",
   "pygments_lexer": "ipython3",
   "version": "3.11.5"
  }
 },
 "nbformat": 4,
 "nbformat_minor": 2
}
